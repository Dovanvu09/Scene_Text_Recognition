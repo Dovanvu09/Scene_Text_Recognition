{
 "cells": [
  {
   "cell_type": "code",
   "execution_count": 30,
   "metadata": {},
   "outputs": [],
   "source": [
    "import os\n",
    "def extract_data_from_xml(root_dir):\n",
    "    xml_path = os.path.join(root_dir, 'words.xml') \n",
    "    tree = ET.parse(xml_path)\n",
    "    root = tree.getroot()\n",
    "\n",
    "    image_paths = []\n",
    "    image_sizes = []\n",
    "    image_labels = []\n",
    "    bounding_boxes = []\n",
    "\n",
    "    for image in root:\n",
    "        bbs_of_image = []\n",
    "        labels_of_image = []\n",
    "\n",
    "        for bbs in image.findall('taggedRectangles'):\n",
    "            for bb in bbs:\n",
    "                if not bb[0].text.isalnum():\n",
    "                    continue\n",
    "                if 'é' in bb[0].text.lower() or 'ñ' in bb[0].text.lower():\n",
    "                        continue\n",
    "                \n",
    "                bbs_of_image.append(\n",
    "                    [\n",
    "                        float(bb.attrib['x']),\n",
    "                        float(bb.attrib['y']),\n",
    "                        float(bb.attrib['width']),\n",
    "                        float(bb.attrib['height'])\n",
    "                    ]\n",
    "                )\n",
    "                labels_of_image.append(bb[0].text.lower())\n",
    "        \n",
    "        image_paths.append(image[0].text)\n",
    "        image_sizes.append((int(image[1].attrib['x']), int(image[1].attrib['y'])))\n",
    "        bounding_boxes.append(bbs_of_image)\n",
    "        image_labels.append(labels_of_image) \n",
    "\n",
    "    return image_paths, image_sizes, image_labels, bounding_boxes"
   ]
  },
  {
   "cell_type": "code",
   "execution_count": 31,
   "metadata": {},
   "outputs": [],
   "source": [
    "dataset_dir = \"Datasets/icdar2003/SceneTrialTrain\"\n",
    "img_paths , img_sizes, img_labels, bboxes = extract_data_from_xml(dataset_dir)"
   ]
  },
  {
   "cell_type": "code",
   "execution_count": 32,
   "metadata": {},
   "outputs": [],
   "source": [
    "def convert_to_yolov8_format(image_paths, image_sizes, bounding_boxes):\n",
    "\n",
    "    \"\"\"\n",
    "    Normalize bounding box\n",
    "    Parameters:\n",
    "       image_paths (list): The list contains image paths\n",
    "       image_size (list): The list contains image resolutions\n",
    "       bounding_boxes(list): The list contains bounding box\n",
    "    Returns:\n",
    "       yolov8_data(list) : list contains (image_path, image_size, bbboxes)\n",
    "    \"\"\"\n",
    "    #Declare an empty list to contain the result\n",
    "    yolov8_data = []\n",
    "\n",
    "    for image_path, image_size, bboxes in zip(image_paths, image_sizes, bounding_boxes):\n",
    "        image_width, image_height = image_size\n",
    "\n",
    "        # Declare the empty list to contain label( new format)\n",
    "        yolov8_labels = []\n",
    "\n",
    "        # Browse through  each bbox \n",
    "        for bbox in bboxes:\n",
    "            x, y, w, h = bbox\n",
    "\n",
    "            # normalize bbox\n",
    "            # current format : (x_min, y_min, width, height)\n",
    "            # yolo of format: (x_center, y_center, width, height)\n",
    "            center_x = (x + w/2) / image_width\n",
    "            center_y = (y + h/2) / image_height\n",
    "            normalized_width = w / image_width\n",
    "            normalized_height = h / image_height\n",
    "\n",
    "            # set default class code = 0 because has 1 class is 'text'\n",
    "            class_id = 0\n",
    "\n",
    "            yolov8_label = f\"{class_id} {center_x} {center_y} {normalized_width} {normalized_height}\"\n",
    "            yolov8_labels.append(yolov8_label)\n",
    "\n",
    "        yolov8_data.append((image_path,yolov8_labels))\n",
    "    return yolov8_data"
   ]
  },
  {
   "cell_type": "code",
   "execution_count": 33,
   "metadata": {},
   "outputs": [],
   "source": [
    "class_labels = ['text']\n",
    "yolov8_data = convert_to_yolov8_format(\n",
    "    img_paths, \n",
    "    img_sizes, \n",
    "    bboxes\n",
    ")"
   ]
  },
  {
   "cell_type": "markdown",
   "metadata": {},
   "source": [
    " <font face=\"Arial\" size=\"6\"> 4.Train, val, test split</font>\n"
   ]
  },
  {
   "cell_type": "code",
   "execution_count": 35,
   "metadata": {},
   "outputs": [],
   "source": [
    "from sklearn.model_selection import train_test_split\n",
    "seed = 0\n",
    "val_size = 0.2\n",
    "test_size = 0.125\n",
    "\n",
    "train_data, test_data = train_test_split(\n",
    "    yolov8_data,\n",
    "    test_size = val_size,\n",
    "    random_state = seed,\n",
    "    shuffle = True\n",
    ")\n",
    "\n",
    "test_data, valid_data = train_test_split(\n",
    "    test_data,\n",
    "    test_size = test_size,\n",
    "    random_state = seed,\n",
    "    shuffle = True\n",
    ")"
   ]
  },
  {
   "cell_type": "markdown",
   "metadata": {},
   "source": [
    "<font face = \"Arial\" size = \"6\">5. Save data </font>"
   ]
  },
  {
   "cell_type": "code",
   "execution_count": 36,
   "metadata": {},
   "outputs": [],
   "source": [
    "import shutil\n",
    "def save_data(data, src_img_dir, save_dir):\n",
    "    \"\"\"\n",
    "    build folder to containing data in YOLO format \n",
    "    parameters:\n",
    "       data(list) : The list containing image label information\n",
    "       src_img_dir(str): Path to the original data directory\n",
    "       save_dir(str): Path to the orginal data directory\n",
    "\n",
    "    \"\"\"\n",
    "    # create the new folder data  \n",
    "    os.makedirs(save_dir, exist_ok = True)\n",
    "\n",
    "    # create the images folder and labels folder\n",
    "    os.makedirs(os.path.join(save_dir, 'images'), exist_ok = True)\n",
    "    os.makedirs(os.path.join(save_dir, 'labels') , exist_ok = True)\n",
    "\n",
    "    for image_path, yolov8_labels in data:\n",
    "        # copy image from original folder to images folder\n",
    "        shutil.copy(\n",
    "            os.path.join(src_img_dir, image_path),\n",
    "            os.path.join(save_dir, 'images')\n",
    "        )\n",
    "        image_name = os.path.basename(image_path)\n",
    "        image_name = os.path.splitext(image_name)[0]\n",
    "\n",
    "        with open(os.path.join(save_dir, 'labels', f\"{image_name}.txt\"), 'w') as f:\n",
    "            for label in yolov8_labels : \n",
    "                f.write(f\"{label}\\n\")\n",
    "                "
   ]
  },
  {
   "cell_type": "code",
   "execution_count": 37,
   "metadata": {},
   "outputs": [],
   "source": [
    "import os\n",
    "save_yolo_data_dir = 'Datasets/yolo_data'\n",
    "os.makedirs(save_yolo_data_dir, exist_ok = True)\n",
    "save_train_dir = os.path.join(save_yolo_data_dir, \n",
    "                              'train')\n",
    "save_val_dir = os.path.join(\n",
    "    save_yolo_data_dir,\n",
    "    'validation'\n",
    ")\n",
    "\n",
    "save_test_dir = os.path.join(\n",
    "    save_yolo_data_dir,\n",
    "    'test'\n",
    ")\n",
    "save_data(\n",
    "    train_data, \n",
    "    dataset_dir,\n",
    "    save_train_dir\n",
    ")\n",
    "save_data(\n",
    "    test_data,\n",
    "    dataset_dir,\n",
    "    save_test_dir\n",
    "\n",
    ")\n",
    "save_data(\n",
    "    valid_data,\n",
    "    dataset_dir,\n",
    "    save_val_dir\n",
    ")\n"
   ]
  },
  {
   "cell_type": "markdown",
   "metadata": {},
   "source": [
    "<font face=\"Arial\" size=\"6\"> 6. Create yaml file </font>"
   ]
  },
  {
   "cell_type": "code",
   "execution_count": 39,
   "metadata": {},
   "outputs": [],
   "source": [
    "import yaml\n",
    "data_yaml = {\n",
    "    'path' : 'yolo_data',\n",
    "    'train': 'train/images',\n",
    "    'test' : 'test/images',\n",
    "    'val' : 'validation/images',\n",
    "    'nc' : 1, \n",
    "    'names' : class_labels\n",
    "}\n",
    "yolo_yaml_path = os.path.join(\n",
    "    save_yolo_data_dir,\n",
    "    'data.yml'\n",
    ")\n",
    "\n",
    "with open(yolo_yaml_path, 'w') as f:\n",
    "    yaml.dump(data_yaml, f, default_flow_style = False)\n"
   ]
  },
  {
   "cell_type": "markdown",
   "metadata": {},
   "source": [
    "<font face = 'Arial' size = '6'> 7.Training </font>"
   ]
  },
  {
   "cell_type": "code",
   "execution_count": 40,
   "metadata": {},
   "outputs": [
    {
     "name": "stdout",
     "output_type": "stream",
     "text": [
      "Transferred 355/355 items from pretrained weights\n",
      "Ultralytics YOLOv8.2.92  Python-3.12.4 torch-2.3.0 CPU (AMD Ryzen 5 5500U with Radeon Graphics)\n",
      "\u001b[34m\u001b[1mengine\\trainer: \u001b[0mtask=detect, mode=train, model=yolov8s.yaml, data=Datasets/yolo_data\\data.yml, epochs=200, time=None, patience=100, batch=16, imgsz=1024, save=True, save_period=-1, cache=False, device=None, workers=8, project=models, name=train5, exist_ok=False, pretrained=yolov8s.pt, optimizer=auto, verbose=True, seed=0, deterministic=True, single_cls=False, rect=False, cos_lr=False, close_mosaic=10, resume=False, amp=True, fraction=1.0, profile=False, freeze=None, multi_scale=False, overlap_mask=True, mask_ratio=4, dropout=0.0, val=True, split=val, save_json=False, save_hybrid=False, conf=None, iou=0.7, max_det=300, half=False, dnn=False, plots=True, source=None, vid_stride=1, stream_buffer=False, visualize=False, augment=False, agnostic_nms=False, classes=None, retina_masks=False, embed=None, show=False, save_frames=False, save_txt=False, save_conf=False, save_crop=False, show_labels=True, show_conf=True, show_boxes=True, line_width=None, format=torchscript, keras=False, optimize=False, int8=False, dynamic=False, simplify=False, opset=None, workspace=4, nms=False, lr0=0.01, lrf=0.01, momentum=0.937, weight_decay=0.0005, warmup_epochs=3.0, warmup_momentum=0.8, warmup_bias_lr=0.1, box=7.5, cls=0.5, dfl=1.5, pose=12.0, kobj=1.0, label_smoothing=0.0, nbs=64, hsv_h=0.015, hsv_s=0.7, hsv_v=0.4, degrees=0.0, translate=0.1, scale=0.5, shear=0.0, perspective=0.0, flipud=0.0, fliplr=0.5, bgr=0.0, mosaic=1.0, mixup=0.0, copy_paste=0.0, auto_augment=randaugment, erasing=0.4, crop_fraction=1.0, cfg=None, tracker=botsort.yaml, save_dir=models\\yolov8\\detect\\train5\n",
      "Downloading https://ultralytics.com/assets/Arial.ttf to 'C:\\Users\\dvuAI\\AppData\\Roaming\\Ultralytics\\Arial.ttf'...\n"
     ]
    },
    {
     "name": "stderr",
     "output_type": "stream",
     "text": [
      "100%|██████████| 755k/755k [00:00<00:00, 3.99MB/s]"
     ]
    },
    {
     "name": "stdout",
     "output_type": "stream",
     "text": [
      "Overriding model.yaml nc=80 with nc=1\n",
      "\n",
      "                   from  n    params  module                                       arguments                     \n",
      "  0                  -1  1       928  ultralytics.nn.modules.conv.Conv             [3, 32, 3, 2]                 \n",
      "  1                  -1  1     18560  ultralytics.nn.modules.conv.Conv             [32, 64, 3, 2]                \n",
      "  2                  -1  1     29056  ultralytics.nn.modules.block.C2f             [64, 64, 1, True]             \n",
      "  3                  -1  1     73984  ultralytics.nn.modules.conv.Conv             [64, 128, 3, 2]               \n",
      "  4                  -1  2    197632  ultralytics.nn.modules.block.C2f             [128, 128, 2, True]           \n",
      "  5                  -1  1    295424  ultralytics.nn.modules.conv.Conv             [128, 256, 3, 2]              \n",
      "  6                  -1  2    788480  ultralytics.nn.modules.block.C2f             [256, 256, 2, True]           \n",
      "  7                  -1  1   1180672  ultralytics.nn.modules.conv.Conv             [256, 512, 3, 2]              \n",
      "  8                  -1  1   1838080  ultralytics.nn.modules.block.C2f             [512, 512, 1, True]           \n",
      "  9                  -1  1    656896  ultralytics.nn.modules.block.SPPF            [512, 512, 5]                 \n",
      " 10                  -1  1         0  torch.nn.modules.upsampling.Upsample         [None, 2, 'nearest']          \n",
      " 11             [-1, 6]  1         0  ultralytics.nn.modules.conv.Concat           [1]                           \n",
      " 12                  -1  1    591360  ultralytics.nn.modules.block.C2f             [768, 256, 1]                 \n",
      " 13                  -1  1         0  torch.nn.modules.upsampling.Upsample         [None, 2, 'nearest']          \n",
      " 14             [-1, 4]  1         0  ultralytics.nn.modules.conv.Concat           [1]                           \n",
      " 15                  -1  1    148224  ultralytics.nn.modules.block.C2f             [384, 128, 1]                 \n",
      " 16                  -1  1    147712  ultralytics.nn.modules.conv.Conv             [128, 128, 3, 2]              \n"
     ]
    },
    {
     "name": "stderr",
     "output_type": "stream",
     "text": [
      "\n"
     ]
    },
    {
     "name": "stdout",
     "output_type": "stream",
     "text": [
      " 17            [-1, 12]  1         0  ultralytics.nn.modules.conv.Concat           [1]                           \n",
      " 18                  -1  1    493056  ultralytics.nn.modules.block.C2f             [384, 256, 1]                 \n",
      " 19                  -1  1    590336  ultralytics.nn.modules.conv.Conv             [256, 256, 3, 2]              \n",
      " 20             [-1, 9]  1         0  ultralytics.nn.modules.conv.Concat           [1]                           \n",
      " 21                  -1  1   1969152  ultralytics.nn.modules.block.C2f             [768, 512, 1]                 \n",
      " 22        [15, 18, 21]  1   2116435  ultralytics.nn.modules.head.Detect           [1, [128, 256, 512]]          \n",
      "YOLOv8s summary: 225 layers, 11,135,987 parameters, 11,135,971 gradients, 28.6 GFLOPs\n",
      "\n",
      "Transferred 349/355 items from pretrained weights\n",
      "Freezing layer 'model.22.dfl.conv.weight'\n"
     ]
    },
    {
     "name": "stderr",
     "output_type": "stream",
     "text": [
      "\u001b[34m\u001b[1mtrain: \u001b[0mScanning D:\\NLP_CVS\\Datasets\\yolo_data\\train\\labels... 200 images, 7 backgrounds, 0 corrupt: 100%|██████████| 200/200 [00:00<00:00, 314.97it/s]"
     ]
    },
    {
     "name": "stdout",
     "output_type": "stream",
     "text": [
      "\u001b[34m\u001b[1mtrain: \u001b[0mNew cache created: D:\\NLP_CVS\\Datasets\\yolo_data\\train\\labels.cache\n"
     ]
    },
    {
     "name": "stderr",
     "output_type": "stream",
     "text": [
      "\n",
      "\u001b[34m\u001b[1mval: \u001b[0mScanning D:\\NLP_CVS\\Datasets\\yolo_data\\validation\\labels... 7 images, 0 backgrounds, 0 corrupt: 100%|██████████| 7/7 [00:00<00:00, 355.02it/s]"
     ]
    },
    {
     "name": "stdout",
     "output_type": "stream",
     "text": [
      "\u001b[34m\u001b[1mval: \u001b[0mNew cache created: D:\\NLP_CVS\\Datasets\\yolo_data\\validation\\labels.cache\n"
     ]
    },
    {
     "name": "stderr",
     "output_type": "stream",
     "text": [
      "\n"
     ]
    },
    {
     "name": "stdout",
     "output_type": "stream",
     "text": [
      "Plotting labels to models\\yolov8\\detect\\train5\\labels.jpg... \n",
      "\u001b[34m\u001b[1moptimizer:\u001b[0m 'optimizer=auto' found, ignoring 'lr0=0.01' and 'momentum=0.937' and determining best 'optimizer', 'lr0' and 'momentum' automatically... \n",
      "\u001b[34m\u001b[1moptimizer:\u001b[0m AdamW(lr=0.002, momentum=0.9) with parameter groups 57 weight(decay=0.0), 64 weight(decay=0.0005), 63 bias(decay=0.0)\n",
      "Image sizes 1024 train, 1024 val\n",
      "Using 0 dataloader workers\n",
      "Logging results to \u001b[1mmodels\\yolov8\\detect\\train5\u001b[0m\n",
      "Starting training for 200 epochs...\n",
      "\n",
      "      Epoch    GPU_mem   box_loss   cls_loss   dfl_loss  Instances       Size\n"
     ]
    },
    {
     "name": "stderr",
     "output_type": "stream",
     "text": [
      "  0%|          | 0/13 [00:00<?, ?it/s]"
     ]
    }
   ],
   "source": [
    "from ultralytics import YOLO\n",
    "\n",
    "#load a model\n",
    "model = YOLO('yolov8s.yaml').load('yolov8s.pt')\n",
    "\n",
    "#train the model\n",
    "epochs = 200\n",
    "imgsz = 1024\n",
    "resuls = model.train(\n",
    "    data = yolo_yaml_path, \n",
    "    epochs = epochs,\n",
    "    imgsz = imgsz,\n",
    "    project = 'models',\n",
    "    name = 'yolov8/detect/train'\n",
    ")"
   ]
  }
 ],
 "metadata": {
  "kernelspec": {
   "display_name": "env1",
   "language": "python",
   "name": "python3"
  },
  "language_info": {
   "codemirror_mode": {
    "name": "ipython",
    "version": 3
   },
   "file_extension": ".py",
   "mimetype": "text/x-python",
   "name": "python",
   "nbconvert_exporter": "python",
   "pygments_lexer": "ipython3",
   "version": "3.12.4"
  }
 },
 "nbformat": 4,
 "nbformat_minor": 2
}
